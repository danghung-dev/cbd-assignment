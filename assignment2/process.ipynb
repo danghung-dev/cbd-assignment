{
 "cells": [
  {
   "cell_type": "markdown",
   "metadata": {},
   "source": [
    "# Process\n",
    "\n",
    "# Introduction\n",
    "\n",
    "## Kích thước dữ liệu: \n",
    "Bao nhiêu rows, columns\n",
    "\n",
    "## Thống kê mô tả \n",
    "Thống kê data dạng numeric, category, string\n",
    "\n",
    "1.Missing value: null or NaN, người dùng ko nhập   \n",
    "2.Các tham số thống kê: mean, median, min, max, .... \n",
    "-> Tìm ra sự bất thường. VD: lương âm hay lương 1 tỉ. Dòng dự liệu bất thường -> Xoá đi \n",
    "\n",
    "## Missing value treatment \n",
    "1. Thay bằng fix value: 0, 999, unknown ( cho category )\n",
    "2. Thay bằng mean, mode, min, max: các thông số thống kê\n",
    "3. Delete row: nếu có quá nhiều cột null. Delete col nếu cột đó ko dùng trong model \n",
    "4. Predict \n",
    "5. Statistics on target ( course này ko xài )\n",
    "\n",
    "## Transform \n",
    "1. Text -> numeric \n",
    "2. scale, normalize ( chuẩn hoá data)\n",
    "3. New feature <-> logic (\n",
    "Tính đc mà ko có sẵn ( vd: thu nhập bình quân 6 tháng )\n",
    "\n",
    "## Feature selection\n",
    "\n",
    "## Train model \n",
    "\n",
    "## Test model\n",
    "\n",
    "## Conclusion\n",
    "\n",
    "## Examples \n",
    "\n",
    "https://www.kaggle.com/masumrumi/a-detailed-regression-guide-with-house-pricing"
   ]
  },
  {
   "cell_type": "code",
   "execution_count": null,
   "metadata": {},
   "outputs": [],
   "source": []
  }
 ],
 "metadata": {
  "kernelspec": {
   "display_name": "Python 3",
   "language": "python",
   "name": "python3"
  },
  "language_info": {
   "codemirror_mode": {
    "name": "ipython",
    "version": 3
   },
   "file_extension": ".py",
   "mimetype": "text/x-python",
   "name": "python",
   "nbconvert_exporter": "python",
   "pygments_lexer": "ipython3",
   "version": "3.7.3"
  }
 },
 "nbformat": 4,
 "nbformat_minor": 4
}
