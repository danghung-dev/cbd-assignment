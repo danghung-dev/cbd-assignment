{
 "cells": [
  {
   "cell_type": "markdown",
   "metadata": {},
   "source": [
    "# 1. Introduction\n",
    "\n",
    "There is a lot of information on runners and their performance for the\n",
    "Boston Marathon. Pick a year (post-2012 has more info) and do some\n",
    "clustering.\n",
    "Specifically, use the tools at hand to determine which clustering\n",
    "solution, including number of clusters and algorithm used, is best for\n",
    "the marathon data. Once you have a solution you like, write a data\n",
    "story, including visualizations, where you teach the reader something\n",
    "about the Boston Marathon based on your clusters. Write up your\n",
    "report, including your process from start to finish. You must include\n",
    "analysis as:\n",
    "\n",
    "1. Draw bar graphs (both male & female in different color) for each\n",
    "cluster for male and female, from the bar graphs, you can tell things\n",
    "as which cluster contains the most number of female (or male).\n",
    "\n",
    "2. Draw bar graphs for runners in different ranges of age (dividing by 3\n",
    "groups: 18-25, 26-40, 40-70 or so) for each cluster (in different colors),\n",
    "from the graph, you should be able to anwser which cluster contains\n",
    "the most young people, which cluster contains oldest people, etc.\n",
    "\n",
    "3. Do the same things as above for finishing time (which group runs\n",
    "fastest)."
   ]
  },
  {
   "cell_type": "code",
   "execution_count": 73,
   "metadata": {},
   "outputs": [],
   "source": [
    "import pandas as pd\n",
    "import numpy as np # linear algebra\n",
    "import scipy\n",
    "from sklearn import metrics\n",
    "from sklearn.preprocessing import MinMaxScaler\n",
    "from sklearn.decomposition import PCA\n",
    "import matplotlib.pyplot as plt\n",
    "import seaborn as sns\n",
    "from sklearn.cluster import KMeans\n",
    "import matplotlib.cm as cm\n"
   ]
  },
  {
   "cell_type": "code",
   "execution_count": 74,
   "metadata": {},
   "outputs": [
    {
     "data": {
      "text/html": [
       "<div>\n",
       "<style scoped>\n",
       "    .dataframe tbody tr th:only-of-type {\n",
       "        vertical-align: middle;\n",
       "    }\n",
       "\n",
       "    .dataframe tbody tr th {\n",
       "        vertical-align: top;\n",
       "    }\n",
       "\n",
       "    .dataframe thead th {\n",
       "        text-align: right;\n",
       "    }\n",
       "</style>\n",
       "<table border=\"1\" class=\"dataframe\">\n",
       "  <thead>\n",
       "    <tr style=\"text-align: right;\">\n",
       "      <th></th>\n",
       "      <th>10k</th>\n",
       "      <th>name</th>\n",
       "      <th>division</th>\n",
       "      <th>25k</th>\n",
       "      <th>gender</th>\n",
       "      <th>age</th>\n",
       "      <th>official</th>\n",
       "      <th>bib</th>\n",
       "      <th>genderdiv</th>\n",
       "      <th>ctz</th>\n",
       "      <th>35k</th>\n",
       "      <th>overall</th>\n",
       "      <th>pace</th>\n",
       "      <th>state</th>\n",
       "      <th>30k</th>\n",
       "      <th>5k</th>\n",
       "      <th>half</th>\n",
       "      <th>20k</th>\n",
       "      <th>country</th>\n",
       "      <th>city</th>\n",
       "      <th>40k</th>\n",
       "    </tr>\n",
       "  </thead>\n",
       "  <tbody>\n",
       "    <tr>\n",
       "      <td>0</td>\n",
       "      <td>17.37</td>\n",
       "      <td>Yamamoto, Hiroyuki</td>\n",
       "      <td>8</td>\n",
       "      <td>47.67</td>\n",
       "      <td>M</td>\n",
       "      <td>47</td>\n",
       "      <td>85.25</td>\n",
       "      <td>W1</td>\n",
       "      <td>8</td>\n",
       "      <td>NaN</td>\n",
       "      <td>71.40</td>\n",
       "      <td>8</td>\n",
       "      <td>3.27</td>\n",
       "      <td>NaN</td>\n",
       "      <td>59.18</td>\n",
       "      <td>8.02</td>\n",
       "      <td>39.72</td>\n",
       "      <td>37.65</td>\n",
       "      <td>JPN</td>\n",
       "      <td>Fukuoka</td>\n",
       "      <td>80.43</td>\n",
       "    </tr>\n",
       "    <tr>\n",
       "      <td>1</td>\n",
       "      <td>32.58</td>\n",
       "      <td>Jeptoo, Rita</td>\n",
       "      <td>1</td>\n",
       "      <td>82.43</td>\n",
       "      <td>F</td>\n",
       "      <td>33</td>\n",
       "      <td>138.95</td>\n",
       "      <td>F1</td>\n",
       "      <td>1</td>\n",
       "      <td>NaN</td>\n",
       "      <td>116.37</td>\n",
       "      <td>21</td>\n",
       "      <td>5.30</td>\n",
       "      <td>NaN</td>\n",
       "      <td>99.33</td>\n",
       "      <td>16.22</td>\n",
       "      <td>69.47</td>\n",
       "      <td>65.83</td>\n",
       "      <td>KEN</td>\n",
       "      <td>Eldoret</td>\n",
       "      <td>132.10</td>\n",
       "    </tr>\n",
       "    <tr>\n",
       "      <td>2</td>\n",
       "      <td>16.62</td>\n",
       "      <td>Van Dyk, Ernst F.</td>\n",
       "      <td>1</td>\n",
       "      <td>45.80</td>\n",
       "      <td>M</td>\n",
       "      <td>41</td>\n",
       "      <td>80.60</td>\n",
       "      <td>W2</td>\n",
       "      <td>1</td>\n",
       "      <td>NaN</td>\n",
       "      <td>67.42</td>\n",
       "      <td>1</td>\n",
       "      <td>3.08</td>\n",
       "      <td>NaN</td>\n",
       "      <td>56.45</td>\n",
       "      <td>7.75</td>\n",
       "      <td>38.03</td>\n",
       "      <td>36.10</td>\n",
       "      <td>RSA</td>\n",
       "      <td>Paarl</td>\n",
       "      <td>76.10</td>\n",
       "    </tr>\n",
       "    <tr>\n",
       "      <td>3</td>\n",
       "      <td>32.57</td>\n",
       "      <td>Dibaba, Mare</td>\n",
       "      <td>3</td>\n",
       "      <td>82.43</td>\n",
       "      <td>F</td>\n",
       "      <td>24</td>\n",
       "      <td>140.58</td>\n",
       "      <td>F2</td>\n",
       "      <td>3</td>\n",
       "      <td>NaN</td>\n",
       "      <td>116.37</td>\n",
       "      <td>27</td>\n",
       "      <td>5.37</td>\n",
       "      <td>NaN</td>\n",
       "      <td>99.33</td>\n",
       "      <td>16.20</td>\n",
       "      <td>69.47</td>\n",
       "      <td>65.83</td>\n",
       "      <td>ETH</td>\n",
       "      <td>Shoa</td>\n",
       "      <td>132.95</td>\n",
       "    </tr>\n",
       "    <tr>\n",
       "      <td>4</td>\n",
       "      <td>17.12</td>\n",
       "      <td>Hokinoue, Kota</td>\n",
       "      <td>2</td>\n",
       "      <td>46.37</td>\n",
       "      <td>M</td>\n",
       "      <td>40</td>\n",
       "      <td>81.23</td>\n",
       "      <td>W3</td>\n",
       "      <td>2</td>\n",
       "      <td>NaN</td>\n",
       "      <td>67.83</td>\n",
       "      <td>2</td>\n",
       "      <td>3.10</td>\n",
       "      <td>NaN</td>\n",
       "      <td>57.03</td>\n",
       "      <td>8.02</td>\n",
       "      <td>38.60</td>\n",
       "      <td>36.58</td>\n",
       "      <td>JPN</td>\n",
       "      <td>Nogata Fukuoka</td>\n",
       "      <td>76.72</td>\n",
       "    </tr>\n",
       "  </tbody>\n",
       "</table>\n",
       "</div>"
      ],
      "text/plain": [
       "     10k                name  division    25k gender  age  official bib  \\\n",
       "0  17.37  Yamamoto, Hiroyuki         8  47.67      M   47     85.25  W1   \n",
       "1  32.58        Jeptoo, Rita         1  82.43      F   33    138.95  F1   \n",
       "2  16.62   Van Dyk, Ernst F.         1  45.80      M   41     80.60  W2   \n",
       "3  32.57        Dibaba, Mare         3  82.43      F   24    140.58  F2   \n",
       "4  17.12      Hokinoue, Kota         2  46.37      M   40     81.23  W3   \n",
       "\n",
       "   genderdiv  ctz     35k  overall  pace state    30k     5k   half    20k  \\\n",
       "0          8  NaN   71.40        8  3.27   NaN  59.18   8.02  39.72  37.65   \n",
       "1          1  NaN  116.37       21  5.30   NaN  99.33  16.22  69.47  65.83   \n",
       "2          1  NaN   67.42        1  3.08   NaN  56.45   7.75  38.03  36.10   \n",
       "3          3  NaN  116.37       27  5.37   NaN  99.33  16.20  69.47  65.83   \n",
       "4          2  NaN   67.83        2  3.10   NaN  57.03   8.02  38.60  36.58   \n",
       "\n",
       "  country            city     40k  \n",
       "0     JPN         Fukuoka   80.43  \n",
       "1     KEN         Eldoret  132.10  \n",
       "2     RSA           Paarl   76.10  \n",
       "3     ETH            Shoa  132.95  \n",
       "4     JPN  Nogata Fukuoka   76.72  "
      ]
     },
     "execution_count": 74,
     "metadata": {},
     "output_type": "execute_result"
    }
   ],
   "source": [
    "pd.set_option('display.max_rows', 500)\n",
    "pd.set_option('display.max_columns', 500)\n",
    "data = pd.read_csv(\"./data.csv\")\n",
    "data.head()"
   ]
  },
  {
   "cell_type": "code",
   "execution_count": 75,
   "metadata": {},
   "outputs": [
    {
     "data": {
      "text/html": [
       "<div>\n",
       "<style scoped>\n",
       "    .dataframe tbody tr th:only-of-type {\n",
       "        vertical-align: middle;\n",
       "    }\n",
       "\n",
       "    .dataframe tbody tr th {\n",
       "        vertical-align: top;\n",
       "    }\n",
       "\n",
       "    .dataframe thead th {\n",
       "        text-align: right;\n",
       "    }\n",
       "</style>\n",
       "<table border=\"1\" class=\"dataframe\">\n",
       "  <thead>\n",
       "    <tr style=\"text-align: right;\">\n",
       "      <th></th>\n",
       "      <th>division</th>\n",
       "      <th>age</th>\n",
       "      <th>official</th>\n",
       "      <th>genderdiv</th>\n",
       "      <th>overall</th>\n",
       "      <th>pace</th>\n",
       "    </tr>\n",
       "  </thead>\n",
       "  <tbody>\n",
       "    <tr>\n",
       "      <td>count</td>\n",
       "      <td>31984.000000</td>\n",
       "      <td>31984.000000</td>\n",
       "      <td>31984.000000</td>\n",
       "      <td>31984.000000</td>\n",
       "      <td>31984.000000</td>\n",
       "      <td>31984.000000</td>\n",
       "    </tr>\n",
       "    <tr>\n",
       "      <td>mean</td>\n",
       "      <td>1932.563032</td>\n",
       "      <td>42.407079</td>\n",
       "      <td>242.997314</td>\n",
       "      <td>8051.044741</td>\n",
       "      <td>15939.587825</td>\n",
       "      <td>9.275658</td>\n",
       "    </tr>\n",
       "    <tr>\n",
       "      <td>std</td>\n",
       "      <td>1715.228694</td>\n",
       "      <td>11.316496</td>\n",
       "      <td>52.300431</td>\n",
       "      <td>4754.005626</td>\n",
       "      <td>9232.978224</td>\n",
       "      <td>1.992486</td>\n",
       "    </tr>\n",
       "    <tr>\n",
       "      <td>min</td>\n",
       "      <td>1.000000</td>\n",
       "      <td>18.000000</td>\n",
       "      <td>80.600000</td>\n",
       "      <td>1.000000</td>\n",
       "      <td>1.000000</td>\n",
       "      <td>3.080000</td>\n",
       "    </tr>\n",
       "    <tr>\n",
       "      <td>25%</td>\n",
       "      <td>610.000000</td>\n",
       "      <td>33.000000</td>\n",
       "      <td>205.527500</td>\n",
       "      <td>3972.000000</td>\n",
       "      <td>7943.750000</td>\n",
       "      <td>7.850000</td>\n",
       "    </tr>\n",
       "    <tr>\n",
       "      <td>50%</td>\n",
       "      <td>1425.000000</td>\n",
       "      <td>42.000000</td>\n",
       "      <td>232.370000</td>\n",
       "      <td>7970.000000</td>\n",
       "      <td>15939.500000</td>\n",
       "      <td>8.870000</td>\n",
       "    </tr>\n",
       "    <tr>\n",
       "      <td>75%</td>\n",
       "      <td>2611.000000</td>\n",
       "      <td>50.000000</td>\n",
       "      <td>273.235000</td>\n",
       "      <td>11968.000000</td>\n",
       "      <td>23935.250000</td>\n",
       "      <td>10.430000</td>\n",
       "    </tr>\n",
       "    <tr>\n",
       "      <td>max</td>\n",
       "      <td>6979.000000</td>\n",
       "      <td>81.000000</td>\n",
       "      <td>538.880000</td>\n",
       "      <td>17575.000000</td>\n",
       "      <td>31931.000000</td>\n",
       "      <td>20.570000</td>\n",
       "    </tr>\n",
       "  </tbody>\n",
       "</table>\n",
       "</div>"
      ],
      "text/plain": [
       "           division           age      official     genderdiv       overall  \\\n",
       "count  31984.000000  31984.000000  31984.000000  31984.000000  31984.000000   \n",
       "mean    1932.563032     42.407079    242.997314   8051.044741  15939.587825   \n",
       "std     1715.228694     11.316496     52.300431   4754.005626   9232.978224   \n",
       "min        1.000000     18.000000     80.600000      1.000000      1.000000   \n",
       "25%      610.000000     33.000000    205.527500   3972.000000   7943.750000   \n",
       "50%     1425.000000     42.000000    232.370000   7970.000000  15939.500000   \n",
       "75%     2611.000000     50.000000    273.235000  11968.000000  23935.250000   \n",
       "max     6979.000000     81.000000    538.880000  17575.000000  31931.000000   \n",
       "\n",
       "               pace  \n",
       "count  31984.000000  \n",
       "mean       9.275658  \n",
       "std        1.992486  \n",
       "min        3.080000  \n",
       "25%        7.850000  \n",
       "50%        8.870000  \n",
       "75%       10.430000  \n",
       "max       20.570000  "
      ]
     },
     "execution_count": 75,
     "metadata": {},
     "output_type": "execute_result"
    }
   ],
   "source": [
    "data.describe()"
   ]
  },
  {
   "cell_type": "code",
   "execution_count": 76,
   "metadata": {},
   "outputs": [
    {
     "data": {
      "text/html": [
       "<div>\n",
       "<style scoped>\n",
       "    .dataframe tbody tr th:only-of-type {\n",
       "        vertical-align: middle;\n",
       "    }\n",
       "\n",
       "    .dataframe tbody tr th {\n",
       "        vertical-align: top;\n",
       "    }\n",
       "\n",
       "    .dataframe thead th {\n",
       "        text-align: right;\n",
       "    }\n",
       "</style>\n",
       "<table border=\"1\" class=\"dataframe\">\n",
       "  <thead>\n",
       "    <tr style=\"text-align: right;\">\n",
       "      <th></th>\n",
       "      <th>10k</th>\n",
       "      <th>name</th>\n",
       "      <th>25k</th>\n",
       "      <th>gender</th>\n",
       "      <th>bib</th>\n",
       "      <th>ctz</th>\n",
       "      <th>35k</th>\n",
       "      <th>state</th>\n",
       "      <th>30k</th>\n",
       "      <th>5k</th>\n",
       "      <th>half</th>\n",
       "      <th>20k</th>\n",
       "      <th>country</th>\n",
       "      <th>city</th>\n",
       "      <th>40k</th>\n",
       "    </tr>\n",
       "  </thead>\n",
       "  <tbody>\n",
       "    <tr>\n",
       "      <td>count</td>\n",
       "      <td>31984</td>\n",
       "      <td>31984</td>\n",
       "      <td>31984</td>\n",
       "      <td>31984</td>\n",
       "      <td>31984</td>\n",
       "      <td>1244</td>\n",
       "      <td>31984</td>\n",
       "      <td>29408</td>\n",
       "      <td>31984</td>\n",
       "      <td>31984</td>\n",
       "      <td>31984</td>\n",
       "      <td>31984</td>\n",
       "      <td>31984</td>\n",
       "      <td>31983</td>\n",
       "      <td>31984</td>\n",
       "    </tr>\n",
       "    <tr>\n",
       "      <td>unique</td>\n",
       "      <td>2766</td>\n",
       "      <td>31915</td>\n",
       "      <td>6570</td>\n",
       "      <td>2</td>\n",
       "      <td>31984</td>\n",
       "      <td>84</td>\n",
       "      <td>9516</td>\n",
       "      <td>68</td>\n",
       "      <td>8090</td>\n",
       "      <td>1491</td>\n",
       "      <td>5651</td>\n",
       "      <td>5375</td>\n",
       "      <td>78</td>\n",
       "      <td>5934</td>\n",
       "      <td>10546</td>\n",
       "    </tr>\n",
       "    <tr>\n",
       "      <td>top</td>\n",
       "      <td>-</td>\n",
       "      <td>Johnson, Patrick</td>\n",
       "      <td>-</td>\n",
       "      <td>M</td>\n",
       "      <td>12653</td>\n",
       "      <td>GBR</td>\n",
       "      <td>-</td>\n",
       "      <td>MA</td>\n",
       "      <td>-</td>\n",
       "      <td>23.93</td>\n",
       "      <td>-</td>\n",
       "      <td>-</td>\n",
       "      <td>USA</td>\n",
       "      <td>Boston</td>\n",
       "      <td>-</td>\n",
       "    </tr>\n",
       "    <tr>\n",
       "      <td>freq</td>\n",
       "      <td>50</td>\n",
       "      <td>2</td>\n",
       "      <td>216</td>\n",
       "      <td>17617</td>\n",
       "      <td>1</td>\n",
       "      <td>171</td>\n",
       "      <td>34</td>\n",
       "      <td>7587</td>\n",
       "      <td>40</td>\n",
       "      <td>81</td>\n",
       "      <td>72</td>\n",
       "      <td>51</td>\n",
       "      <td>27233</td>\n",
       "      <td>1034</td>\n",
       "      <td>39</td>\n",
       "    </tr>\n",
       "  </tbody>\n",
       "</table>\n",
       "</div>"
      ],
      "text/plain": [
       "          10k              name    25k gender    bib   ctz    35k  state  \\\n",
       "count   31984             31984  31984  31984  31984  1244  31984  29408   \n",
       "unique   2766             31915   6570      2  31984    84   9516     68   \n",
       "top         -  Johnson, Patrick      -      M  12653   GBR      -     MA   \n",
       "freq       50                 2    216  17617      1   171     34   7587   \n",
       "\n",
       "          30k     5k   half    20k country    city    40k  \n",
       "count   31984  31984  31984  31984   31984   31983  31984  \n",
       "unique   8090   1491   5651   5375      78    5934  10546  \n",
       "top         -  23.93      -      -     USA  Boston      -  \n",
       "freq       40     81     72     51   27233    1034     39  "
      ]
     },
     "execution_count": 76,
     "metadata": {},
     "output_type": "execute_result"
    }
   ],
   "source": [
    "data.describe(include='O')"
   ]
  },
  {
   "cell_type": "code",
   "execution_count": 77,
   "metadata": {},
   "outputs": [
    {
     "name": "stdout",
     "output_type": "stream",
     "text": [
      "<class 'pandas.core.frame.DataFrame'>\n",
      "RangeIndex: 31984 entries, 0 to 31983\n",
      "Data columns (total 21 columns):\n",
      "10k          31984 non-null object\n",
      "name         31984 non-null object\n",
      "division     31984 non-null int64\n",
      "25k          31984 non-null object\n",
      "gender       31984 non-null object\n",
      "age          31984 non-null int64\n",
      "official     31984 non-null float64\n",
      "bib          31984 non-null object\n",
      "genderdiv    31984 non-null int64\n",
      "ctz          1244 non-null object\n",
      "35k          31984 non-null object\n",
      "overall      31984 non-null int64\n",
      "pace         31984 non-null float64\n",
      "state        29408 non-null object\n",
      "30k          31984 non-null object\n",
      "5k           31984 non-null object\n",
      "half         31984 non-null object\n",
      "20k          31984 non-null object\n",
      "country      31984 non-null object\n",
      "city         31983 non-null object\n",
      "40k          31984 non-null object\n",
      "dtypes: float64(2), int64(4), object(15)\n",
      "memory usage: 5.1+ MB\n"
     ]
    }
   ],
   "source": [
    "data.info()"
   ]
  },
  {
   "cell_type": "code",
   "execution_count": 78,
   "metadata": {},
   "outputs": [],
   "source": [
    "data_male = data[data['gender'] == 'M']\n",
    "data_female = data[data['gender'] == 'F']"
   ]
  },
  {
   "cell_type": "code",
   "execution_count": 79,
   "metadata": {},
   "outputs": [],
   "source": [
    "# Data transform "
   ]
  },
  {
   "cell_type": "code",
   "execution_count": 80,
   "metadata": {},
   "outputs": [
    {
     "name": "stdout",
     "output_type": "stream",
     "text": [
      "10k          float64\n",
      "name          object\n",
      "division       int64\n",
      "25k          float64\n",
      "gender        object\n",
      "age          float64\n",
      "official     float64\n",
      "bib           object\n",
      "genderdiv      int64\n",
      "ctz           object\n",
      "35k          float64\n",
      "overall      float64\n",
      "pace         float64\n",
      "state         object\n",
      "30k          float64\n",
      "5k           float64\n",
      "half         float64\n",
      "20k          float64\n",
      "country       object\n",
      "city          object\n",
      "40k          float64\n",
      "dtype: object\n"
     ]
    }
   ],
   "source": [
    "numeric = ['10k','25k','age','official','35k','overall','pace','30k','5k','half','20k','40k']\n",
    "data[numeric] = data[numeric].apply(pd.to_numeric, errors = 'coerce', axis=1)\n",
    "print(data.dtypes)"
   ]
  },
  {
   "cell_type": "markdown",
   "metadata": {},
   "source": [
    "# 2. Data exploring"
   ]
  },
  {
   "cell_type": "markdown",
   "metadata": {},
   "source": [
    "## 2.1. Age "
   ]
  },
  {
   "cell_type": "code",
   "execution_count": 82,
   "metadata": {},
   "outputs": [
    {
     "data": {
      "text/plain": [
       "Text(0.5, 1.0, 'Participants per age group')"
      ]
     },
     "execution_count": 82,
     "metadata": {},
     "output_type": "execute_result"
    },
    {
     "data": {
      "image/png": "[encoded data removed]",
      "text/plain": [
       "<Figure size 936x576 with 1 Axes>"
      ]
     },
     "metadata": {
      "needs_background": "light"
     },
     "output_type": "display_data"
    }
   ],
   "source": [
    "g = sns.countplot('age', data=data, palette=\"coolwarm\")\n",
    "g.figure.set_size_inches(13,8)\n",
    "g.set_title(\"Participants per age group\")"
   ]
  },
  {
   "cell_type": "markdown",
   "metadata": {},
   "source": [
    "## 2.2. Age and gender"
   ]
  },
  {
   "cell_type": "code",
   "execution_count": 84,
   "metadata": {},
   "outputs": [
    {
     "data": {
      "text/plain": [
       "Text(0.5, 1.0, 'Participants per Age & Gender')"
      ]
     },
     "execution_count": 84,
     "metadata": {},
     "output_type": "execute_result"
    },
    {
     "data": {
      "image/png": "[encoded data removed]",
      "text/plain": [
       "<Figure size 936x576 with 1 Axes>"
      ]
     },
     "metadata": {
      "needs_background": "light"
     },
     "output_type": "display_data"
    }
   ],
   "source": [
    "g = sns.countplot('age', data=data, palette=\"coolwarm\", hue='gender')\n",
    "g.figure.set_size_inches(13,8)\n",
    "g.set_title(\"Participants per Age & Gender\")"
   ]
  },
  {
   "cell_type": "markdown",
   "metadata": {},
   "source": [
    "## Boxplot by age and gender"
   ]
  },
  {
   "cell_type": "code",
   "execution_count": 86,
   "metadata": {},
   "outputs": [
    {
     "data": {
      "text/plain": [
       "Text(0.5, 1.0, 'Distribution of finish times per Age group')"
      ]
     },
     "execution_count": 86,
     "metadata": {},
     "output_type": "execute_result"
    },
    {
     "data": {
      "image/png": "[encoded data removed]",
      "text/plain": [
       "<Figure size 936x576 with 1 Axes>"
      ]
     },
     "metadata": {
      "needs_background": "light"
     },
     "output_type": "display_data"
    }
   ],
   "source": [
    "g = sns.boxplot(data['gender'], data['age'], palette=\"coolwarm\")\n",
    "g.figure.set_size_inches(13,8)\n",
    "g.set_title(\"Distribution of finish times per Age group\")"
   ]
  },
  {
   "cell_type": "markdown",
   "metadata": {},
   "source": [
    "## 2.3. Finish time"
   ]
  },
  {
   "cell_type": "code",
   "execution_count": 87,
   "metadata": {},
   "outputs": [
    {
     "name": "stderr",
     "output_type": "stream",
     "text": [
      "/opt/conda/lib/python3.7/site-packages/seaborn/axisgrid.py:2262: UserWarning: The `size` paramter has been renamed to `height`; please update your code.\n",
      "  warnings.warn(msg, UserWarning)\n"
     ]
    },
    {
     "data": {
      "image/png": "[encoded data removed]",
      "text/plain": [
       "<Figure size 720x720 with 3 Axes>"
      ]
     },
     "metadata": {
      "needs_background": "light"
     },
     "output_type": "display_data"
    }
   ],
   "source": [
    "g = sns.jointplot( x=data['official'], y=data['age'], stat_func=None, kind='hex',  size=10)"
   ]
  },
  {
   "cell_type": "markdown",
   "metadata": {},
   "source": [
    "## 2.4. Country"
   ]
  },
  {
   "cell_type": "code",
   "execution_count": 88,
   "metadata": {},
   "outputs": [
    {
     "data": {
      "text/plain": [
       "Text(0.5, 1.0, 'Most popular Country')"
      ]
     },
     "execution_count": 88,
     "metadata": {},
     "output_type": "execute_result"
    },
    {
     "data": {
      "image/png": "[encoded data removed]",
      "text/plain": [
       "<Figure size 936x576 with 1 Axes>"
      ]
     },
     "metadata": {
      "needs_background": "light"
     },
     "output_type": "display_data"
    }
   ],
   "source": [
    "s = data.groupby('country').count()['city'].sort_values(ascending=False).head(20)\n",
    "g = sns.barplot(s.index, s, palette='rainbow')\n",
    "g.figure.set_size_inches(13,8)\n",
    "g.set_title(\"Most popular Country\")"
   ]
  },
  {
   "cell_type": "markdown",
   "metadata": {},
   "source": [
    "# 3. Data transformation"
   ]
  },
  {
   "cell_type": "code",
   "execution_count": 90,
   "metadata": {},
   "outputs": [
    {
     "name": "stdout",
     "output_type": "stream",
     "text": [
      "31649\n",
      "10k           float64\n",
      "division        int64\n",
      "25k           float64\n",
      "age           float64\n",
      "official      float64\n",
      "genderdiv       int64\n",
      "35k           float64\n",
      "overall       float64\n",
      "pace          float64\n",
      "30k           float64\n",
      "5k            float64\n",
      "half          float64\n",
      "20k           float64\n",
      "40k           float64\n",
      "gender_bin      int64\n",
      "dtype: object\n",
      "     10k  division    25k   age  official  genderdiv     35k  overall  pace  \\\n",
      "0  17.37         8  47.67  47.0     85.25          8   71.40      8.0  3.27   \n",
      "1  32.58         1  82.43  33.0    138.95          1  116.37     21.0  5.30   \n",
      "2  16.62         1  45.80  41.0     80.60          1   67.42      1.0  3.08   \n",
      "3  32.57         3  82.43  24.0    140.58          3  116.37     27.0  5.37   \n",
      "4  17.12         2  46.37  40.0     81.23          2   67.83      2.0  3.10   \n",
      "\n",
      "     30k     5k   half    20k     40k  gender_bin  \n",
      "0  59.18   8.02  39.72  37.65   80.43           0  \n",
      "1  99.33  16.22  69.47  65.83  132.10           1  \n",
      "2  56.45   7.75  38.03  36.10   76.10           0  \n",
      "3  99.33  16.20  69.47  65.83  132.95           1  \n",
      "4  57.03   8.02  38.60  36.58   76.72           0  \n"
     ]
    }
   ],
   "source": [
    "data['gender_bin'] = data['gender']\n",
    "data['gender_bin'] = data['gender_bin'].str.replace('M','0')\n",
    "data['gender_bin'] = data['gender_bin'].str.replace('F','1')\n",
    "data['gender_bin'] = pd.to_numeric(data['gender_bin'], errors='coerce')\n",
    "\n",
    "drop = ['name','gender','bib','ctz','state','country','city']\n",
    "numeric.append('gender_bin')\n",
    "dropna2014 = data.dropna(subset = numeric)\n",
    "print(len(dropna2014))\n",
    "\n",
    "numeric2014 = dropna2014.drop(drop, axis=1)\n",
    "print(numeric2014.dtypes)\n",
    "print(numeric2014.head())"
   ]
  },
  {
   "cell_type": "markdown",
   "metadata": {},
   "source": [
    "# 4. Clustering by applying KMean "
   ]
  },
  {
   "cell_type": "markdown",
   "metadata": {},
   "source": [
    "## The Elbow Method\n",
    "\n",
    "The Elbow Method is then used to choose the best K value. In the depiction below we can see that after 3 there's no significant decrease in WCSS so 3 is the best here. Therefore there's an elbow shape that forms and it is usually a good idea to pick the number where this elbow is formed. There would be many times when the graph wouldn't be this intuitive but with practice it becomes easier."
   ]
  },
  {
   "cell_type": "code",
   "execution_count": 98,
   "metadata": {},
   "outputs": [],
   "source": [
    "wcss = []\n",
    "for i in range(2, 11):\n",
    "    kmeans = KMeans(n_clusters = i, init = 'k-means++', random_state = 42)\n",
    "    kmeans.fit(numeric2014)\n",
    "    # inertia method returns wcss for that model\n",
    "    wcss.append(kmeans.inertia_)"
   ]
  },
  {
   "cell_type": "code",
   "execution_count": 100,
   "metadata": {},
   "outputs": [
    {
     "data": {
      "image/png": "[encoded data removed]",
      "text/plain": [
       "<Figure size 720x360 with 1 Axes>"
      ]
     },
     "metadata": {
      "needs_background": "light"
     },
     "output_type": "display_data"
    }
   ],
   "source": [
    "plt.figure(figsize=(10,5))\n",
    "sns.lineplot(range(2, 11), wcss,marker='o',color='red')\n",
    "plt.title('The Elbow Method')\n",
    "plt.xlabel('Number of clusters')\n",
    "plt.ylabel('WCSS')\n",
    "plt.show()"
   ]
  },
  {
   "cell_type": "markdown",
   "metadata": {},
   "source": [
    "We will choose 5 for number of cluster."
   ]
  },
  {
   "cell_type": "code",
   "execution_count": 101,
   "metadata": {},
   "outputs": [],
   "source": [
    "# Fitting K-Means to the dataset\n",
    "best_cluster_num = 5\n",
    "kmeans = KMeans(n_clusters = 5, init = 'k-means++', random_state = 42)\n",
    "y_kmeans = kmeans.fit_predict(numeric2014)\n"
   ]
  },
  {
   "cell_type": "code",
   "execution_count": 106,
   "metadata": {},
   "outputs": [],
   "source": [
    "numeric2014['cluster_label'] = y_kmeans"
   ]
  },
  {
   "cell_type": "code",
   "execution_count": 107,
   "metadata": {},
   "outputs": [
    {
     "data": {
      "text/html": [
       "<div>\n",
       "<style scoped>\n",
       "    .dataframe tbody tr th:only-of-type {\n",
       "        vertical-align: middle;\n",
       "    }\n",
       "\n",
       "    .dataframe tbody tr th {\n",
       "        vertical-align: top;\n",
       "    }\n",
       "\n",
       "    .dataframe thead th {\n",
       "        text-align: right;\n",
       "    }\n",
       "</style>\n",
       "<table border=\"1\" class=\"dataframe\">\n",
       "  <thead>\n",
       "    <tr style=\"text-align: right;\">\n",
       "      <th></th>\n",
       "      <th>10k</th>\n",
       "      <th>division</th>\n",
       "      <th>25k</th>\n",
       "      <th>age</th>\n",
       "      <th>official</th>\n",
       "      <th>genderdiv</th>\n",
       "      <th>35k</th>\n",
       "      <th>overall</th>\n",
       "      <th>pace</th>\n",
       "      <th>30k</th>\n",
       "      <th>5k</th>\n",
       "      <th>half</th>\n",
       "      <th>20k</th>\n",
       "      <th>40k</th>\n",
       "      <th>gender_bin</th>\n",
       "      <th>cluster_label</th>\n",
       "    </tr>\n",
       "  </thead>\n",
       "  <tbody>\n",
       "    <tr>\n",
       "      <td>0</td>\n",
       "      <td>17.37</td>\n",
       "      <td>8</td>\n",
       "      <td>47.67</td>\n",
       "      <td>47.0</td>\n",
       "      <td>85.25</td>\n",
       "      <td>8</td>\n",
       "      <td>71.40</td>\n",
       "      <td>8.0</td>\n",
       "      <td>3.27</td>\n",
       "      <td>59.18</td>\n",
       "      <td>8.02</td>\n",
       "      <td>39.72</td>\n",
       "      <td>37.65</td>\n",
       "      <td>80.43</td>\n",
       "      <td>0</td>\n",
       "      <td>2</td>\n",
       "    </tr>\n",
       "    <tr>\n",
       "      <td>1</td>\n",
       "      <td>32.58</td>\n",
       "      <td>1</td>\n",
       "      <td>82.43</td>\n",
       "      <td>33.0</td>\n",
       "      <td>138.95</td>\n",
       "      <td>1</td>\n",
       "      <td>116.37</td>\n",
       "      <td>21.0</td>\n",
       "      <td>5.30</td>\n",
       "      <td>99.33</td>\n",
       "      <td>16.22</td>\n",
       "      <td>69.47</td>\n",
       "      <td>65.83</td>\n",
       "      <td>132.10</td>\n",
       "      <td>1</td>\n",
       "      <td>2</td>\n",
       "    </tr>\n",
       "    <tr>\n",
       "      <td>2</td>\n",
       "      <td>16.62</td>\n",
       "      <td>1</td>\n",
       "      <td>45.80</td>\n",
       "      <td>41.0</td>\n",
       "      <td>80.60</td>\n",
       "      <td>1</td>\n",
       "      <td>67.42</td>\n",
       "      <td>1.0</td>\n",
       "      <td>3.08</td>\n",
       "      <td>56.45</td>\n",
       "      <td>7.75</td>\n",
       "      <td>38.03</td>\n",
       "      <td>36.10</td>\n",
       "      <td>76.10</td>\n",
       "      <td>0</td>\n",
       "      <td>2</td>\n",
       "    </tr>\n",
       "    <tr>\n",
       "      <td>3</td>\n",
       "      <td>32.57</td>\n",
       "      <td>3</td>\n",
       "      <td>82.43</td>\n",
       "      <td>24.0</td>\n",
       "      <td>140.58</td>\n",
       "      <td>3</td>\n",
       "      <td>116.37</td>\n",
       "      <td>27.0</td>\n",
       "      <td>5.37</td>\n",
       "      <td>99.33</td>\n",
       "      <td>16.20</td>\n",
       "      <td>69.47</td>\n",
       "      <td>65.83</td>\n",
       "      <td>132.95</td>\n",
       "      <td>1</td>\n",
       "      <td>2</td>\n",
       "    </tr>\n",
       "    <tr>\n",
       "      <td>4</td>\n",
       "      <td>17.12</td>\n",
       "      <td>2</td>\n",
       "      <td>46.37</td>\n",
       "      <td>40.0</td>\n",
       "      <td>81.23</td>\n",
       "      <td>2</td>\n",
       "      <td>67.83</td>\n",
       "      <td>2.0</td>\n",
       "      <td>3.10</td>\n",
       "      <td>57.03</td>\n",
       "      <td>8.02</td>\n",
       "      <td>38.60</td>\n",
       "      <td>36.58</td>\n",
       "      <td>76.72</td>\n",
       "      <td>0</td>\n",
       "      <td>2</td>\n",
       "    </tr>\n",
       "  </tbody>\n",
       "</table>\n",
       "</div>"
      ],
      "text/plain": [
       "     10k  division    25k   age  official  genderdiv     35k  overall  pace  \\\n",
       "0  17.37         8  47.67  47.0     85.25          8   71.40      8.0  3.27   \n",
       "1  32.58         1  82.43  33.0    138.95          1  116.37     21.0  5.30   \n",
       "2  16.62         1  45.80  41.0     80.60          1   67.42      1.0  3.08   \n",
       "3  32.57         3  82.43  24.0    140.58          3  116.37     27.0  5.37   \n",
       "4  17.12         2  46.37  40.0     81.23          2   67.83      2.0  3.10   \n",
       "\n",
       "     30k     5k   half    20k     40k  gender_bin  cluster_label  \n",
       "0  59.18   8.02  39.72  37.65   80.43           0              2  \n",
       "1  99.33  16.22  69.47  65.83  132.10           1              2  \n",
       "2  56.45   7.75  38.03  36.10   76.10           0              2  \n",
       "3  99.33  16.20  69.47  65.83  132.95           1              2  \n",
       "4  57.03   8.02  38.60  36.58   76.72           0              2  "
      ]
     },
     "execution_count": 107,
     "metadata": {},
     "output_type": "execute_result"
    }
   ],
   "source": [
    "numeric2014.head() "
   ]
  },
  {
   "cell_type": "code",
   "execution_count": 112,
   "metadata": {},
   "outputs": [
    {
     "data": {
      "image/png": "[encoded data removed]",
      "text/plain": [
       "<Figure size 432x288 with 1 Axes>"
      ]
     },
     "metadata": {
      "needs_background": "light"
     },
     "output_type": "display_data"
    },
    {
     "data": {
      "image/png": "[encoded data removed]",
      "text/plain": [
       "<Figure size 432x288 with 1 Axes>"
      ]
     },
     "metadata": {
      "needs_background": "light"
     },
     "output_type": "display_data"
    },
    {
     "data": {
      "image/png": "[encoded data removed]",
      "text/plain": [
       "<Figure size 432x288 with 1 Axes>"
      ]
     },
     "metadata": {
      "needs_background": "light"
     },
     "output_type": "display_data"
    },
    {
     "data": {
      "image/png": "[encoded data removed]",
      "text/plain": [
       "<Figure size 432x288 with 1 Axes>"
      ]
     },
     "metadata": {
      "needs_background": "light"
     },
     "output_type": "display_data"
    },
    {
     "data": {
      "image/png": "[encoded data removed]",
      "text/plain": [
       "<Figure size 432x288 with 1 Axes>"
      ]
     },
     "metadata": {
      "needs_background": "light"
     },
     "output_type": "display_data"
    },
    {
     "data": {
      "image/png": "[encoded data removed]",
      "text/plain": [
       "<Figure size 432x288 with 1 Axes>"
      ]
     },
     "metadata": {
      "needs_background": "light"
     },
     "output_type": "display_data"
    },
    {
     "data": {
      "image/png": "[encoded data removed]",
      "text/plain": [
       "<Figure size 432x288 with 1 Axes>"
      ]
     },
     "metadata": {
      "needs_background": "light"
     },
     "output_type": "display_data"
    },
    {
     "data": {
      "image/png": "[encoded data removed]",
      "text/plain": [
       "<Figure size 432x288 with 1 Axes>"
      ]
     },
     "metadata": {
      "needs_background": "light"
     },
     "output_type": "display_data"
    },
    {
     "data": {
      "image/png": "[encoded data removed]",
      "text/plain": [
       "<Figure size 432x288 with 1 Axes>"
      ]
     },
     "metadata": {
      "needs_background": "light"
     },
     "output_type": "display_data"
    },
    {
     "data": {
      "image/png": "[encoded data removed]",
      "text/plain": [
       "<Figure size 432x288 with 1 Axes>"
      ]
     },
     "metadata": {
      "needs_background": "light"
     },
     "output_type": "display_data"
    },
    {
     "data": {
      "image/png": "[encoded data removed]",
      "text/plain": [
       "<Figure size 432x288 with 1 Axes>"
      ]
     },
     "metadata": {
      "needs_background": "light"
     },
     "output_type": "display_data"
    },
    {
     "data": {
      "image/png": "[encoded data removed]",
      "text/plain": [
       "<Figure size 432x288 with 1 Axes>"
      ]
     },
     "metadata": {
      "needs_background": "light"
     },
     "output_type": "display_data"
    },
    {
     "data": {
      "image/png": "[encoded data removed]",
      "text/plain": [
       "<Figure size 432x288 with 1 Axes>"
      ]
     },
     "metadata": {
      "needs_background": "light"
     },
     "output_type": "display_data"
    },
    {
     "data": {
      "image/png": "[encoded data removed]",
      "text/plain": [
       "<Figure size 432x288 with 1 Axes>"
      ]
     },
     "metadata": {
      "needs_background": "light"
     },
     "output_type": "display_data"
    },
    {
     "data": {
      "image/png": "[encoded data removed]",
      "text/plain": [
       "<Figure size 432x288 with 1 Axes>"
      ]
     },
     "metadata": {
      "needs_background": "light"
     },
     "output_type": "display_data"
    },
    {
     "data": {
      "image/png": "[encoded data removed]",
      "text/plain": [
       "<Figure size 432x288 with 1 Axes>"
      ]
     },
     "metadata": {
      "needs_background": "light"
     },
     "output_type": "display_data"
    }
   ],
   "source": [
    "best_cluster_num = 5\n",
    "cluster_dataframes = {}\n",
    "colors = ['b', 'g', 'r', 'c', 'm']\n",
    "for n_clust in range(best_cluster_num):\n",
    "     cluster_dataframes[n_clust] = numeric2014.loc[numeric2014['cluster_label'] == n_clust]\n",
    "for column in numeric2014:\n",
    "    for i in range(best_cluster_num):\n",
    "        plt.hist(cluster_dataframes[i][column], alpha=0.4, color=colors[i])\n",
    "        \n",
    "    plt.title(f'Cluster {column}')\n",
    "    plt.show()"
   ]
  },
  {
   "cell_type": "markdown",
   "metadata": {},
   "source": [
    "# 5. Question"
   ]
  },
  {
   "cell_type": "markdown",
   "metadata": {},
   "source": [
    "##  5.1. Draw bar graphs (both male & female in different color) for each cluster for male and female, from the bar graphs, you can tell things as which cluster contains the most number of female (or male)."
   ]
  },
  {
   "cell_type": "code",
   "execution_count": 119,
   "metadata": {},
   "outputs": [
    {
     "data": {
      "text/plain": [
       "Text(0.5, 1.0, 'Participants per Age group')"
      ]
     },
     "execution_count": 119,
     "metadata": {},
     "output_type": "execute_result"
    },
    {
     "data": {
      "image/png": "[encoded data removed]",
      "text/plain": [
       "<Figure size 936x576 with 1 Axes>"
      ]
     },
     "metadata": {
      "needs_background": "light"
     },
     "output_type": "display_data"
    }
   ],
   "source": [
    "g = sns.countplot('gender_bin', data=numeric2014, palette=\"coolwarm\", hue='cluster_label')\n",
    "g.figure.set_size_inches(13,8)\n",
    "g.set_title(\"Participants per Age group\")"
   ]
  },
  {
   "cell_type": "markdown",
   "metadata": {},
   "source": [
    "Cluster 2 contains most number of male  \n",
    "\n",
    "Cluster 3 contains most number of female  "
   ]
  },
  {
   "cell_type": "markdown",
   "metadata": {},
   "source": [
    "# 5.2. Draw bar graphs for runners in different ranges of age (dividing by 3 groups: 18-25, 26-40, 40-70 or so)"
   ]
  },
  {
   "cell_type": "code",
   "execution_count": 113,
   "metadata": {},
   "outputs": [
    {
     "data": {
      "text/html": [
       "<div>\n",
       "<style scoped>\n",
       "    .dataframe tbody tr th:only-of-type {\n",
       "        vertical-align: middle;\n",
       "    }\n",
       "\n",
       "    .dataframe tbody tr th {\n",
       "        vertical-align: top;\n",
       "    }\n",
       "\n",
       "    .dataframe thead th {\n",
       "        text-align: right;\n",
       "    }\n",
       "</style>\n",
       "<table border=\"1\" class=\"dataframe\">\n",
       "  <thead>\n",
       "    <tr style=\"text-align: right;\">\n",
       "      <th></th>\n",
       "      <th>10k</th>\n",
       "      <th>division</th>\n",
       "      <th>25k</th>\n",
       "      <th>age</th>\n",
       "      <th>official</th>\n",
       "      <th>genderdiv</th>\n",
       "      <th>35k</th>\n",
       "      <th>overall</th>\n",
       "      <th>pace</th>\n",
       "      <th>30k</th>\n",
       "      <th>5k</th>\n",
       "      <th>half</th>\n",
       "      <th>20k</th>\n",
       "      <th>40k</th>\n",
       "      <th>gender_bin</th>\n",
       "      <th>cluster_label</th>\n",
       "      <th>age_group</th>\n",
       "    </tr>\n",
       "  </thead>\n",
       "  <tbody>\n",
       "    <tr>\n",
       "      <td>0</td>\n",
       "      <td>17.37</td>\n",
       "      <td>8</td>\n",
       "      <td>47.67</td>\n",
       "      <td>47.0</td>\n",
       "      <td>85.25</td>\n",
       "      <td>8</td>\n",
       "      <td>71.40</td>\n",
       "      <td>8.0</td>\n",
       "      <td>3.27</td>\n",
       "      <td>59.18</td>\n",
       "      <td>8.02</td>\n",
       "      <td>39.72</td>\n",
       "      <td>37.65</td>\n",
       "      <td>80.43</td>\n",
       "      <td>0</td>\n",
       "      <td>2</td>\n",
       "      <td>2</td>\n",
       "    </tr>\n",
       "    <tr>\n",
       "      <td>1</td>\n",
       "      <td>32.58</td>\n",
       "      <td>1</td>\n",
       "      <td>82.43</td>\n",
       "      <td>33.0</td>\n",
       "      <td>138.95</td>\n",
       "      <td>1</td>\n",
       "      <td>116.37</td>\n",
       "      <td>21.0</td>\n",
       "      <td>5.30</td>\n",
       "      <td>99.33</td>\n",
       "      <td>16.22</td>\n",
       "      <td>69.47</td>\n",
       "      <td>65.83</td>\n",
       "      <td>132.10</td>\n",
       "      <td>1</td>\n",
       "      <td>2</td>\n",
       "      <td>1</td>\n",
       "    </tr>\n",
       "    <tr>\n",
       "      <td>2</td>\n",
       "      <td>16.62</td>\n",
       "      <td>1</td>\n",
       "      <td>45.80</td>\n",
       "      <td>41.0</td>\n",
       "      <td>80.60</td>\n",
       "      <td>1</td>\n",
       "      <td>67.42</td>\n",
       "      <td>1.0</td>\n",
       "      <td>3.08</td>\n",
       "      <td>56.45</td>\n",
       "      <td>7.75</td>\n",
       "      <td>38.03</td>\n",
       "      <td>36.10</td>\n",
       "      <td>76.10</td>\n",
       "      <td>0</td>\n",
       "      <td>2</td>\n",
       "      <td>2</td>\n",
       "    </tr>\n",
       "    <tr>\n",
       "      <td>3</td>\n",
       "      <td>32.57</td>\n",
       "      <td>3</td>\n",
       "      <td>82.43</td>\n",
       "      <td>24.0</td>\n",
       "      <td>140.58</td>\n",
       "      <td>3</td>\n",
       "      <td>116.37</td>\n",
       "      <td>27.0</td>\n",
       "      <td>5.37</td>\n",
       "      <td>99.33</td>\n",
       "      <td>16.20</td>\n",
       "      <td>69.47</td>\n",
       "      <td>65.83</td>\n",
       "      <td>132.95</td>\n",
       "      <td>1</td>\n",
       "      <td>2</td>\n",
       "      <td>0</td>\n",
       "    </tr>\n",
       "    <tr>\n",
       "      <td>4</td>\n",
       "      <td>17.12</td>\n",
       "      <td>2</td>\n",
       "      <td>46.37</td>\n",
       "      <td>40.0</td>\n",
       "      <td>81.23</td>\n",
       "      <td>2</td>\n",
       "      <td>67.83</td>\n",
       "      <td>2.0</td>\n",
       "      <td>3.10</td>\n",
       "      <td>57.03</td>\n",
       "      <td>8.02</td>\n",
       "      <td>38.60</td>\n",
       "      <td>36.58</td>\n",
       "      <td>76.72</td>\n",
       "      <td>0</td>\n",
       "      <td>2</td>\n",
       "      <td>1</td>\n",
       "    </tr>\n",
       "  </tbody>\n",
       "</table>\n",
       "</div>"
      ],
      "text/plain": [
       "     10k  division    25k   age  official  genderdiv     35k  overall  pace  \\\n",
       "0  17.37         8  47.67  47.0     85.25          8   71.40      8.0  3.27   \n",
       "1  32.58         1  82.43  33.0    138.95          1  116.37     21.0  5.30   \n",
       "2  16.62         1  45.80  41.0     80.60          1   67.42      1.0  3.08   \n",
       "3  32.57         3  82.43  24.0    140.58          3  116.37     27.0  5.37   \n",
       "4  17.12         2  46.37  40.0     81.23          2   67.83      2.0  3.10   \n",
       "\n",
       "     30k     5k   half    20k     40k  gender_bin  cluster_label  age_group  \n",
       "0  59.18   8.02  39.72  37.65   80.43           0              2          2  \n",
       "1  99.33  16.22  69.47  65.83  132.10           1              2          1  \n",
       "2  56.45   7.75  38.03  36.10   76.10           0              2          2  \n",
       "3  99.33  16.20  69.47  65.83  132.95           1              2          0  \n",
       "4  57.03   8.02  38.60  36.58   76.72           0              2          1  "
      ]
     },
     "execution_count": 113,
     "metadata": {},
     "output_type": "execute_result"
    }
   ],
   "source": [
    "def divide_age(x):\n",
    "    if (x >= 18 and x <= 25):\n",
    "        return 0\n",
    "    if (x > 25 and x < 41):\n",
    "        return 1\n",
    "    return 2\n",
    "numeric2014['age_group'] = numeric2014['age'].apply(lambda x: divide_age(x))\n",
    "numeric2014.head()"
   ]
  },
  {
   "cell_type": "code",
   "execution_count": 118,
   "metadata": {},
   "outputs": [],
   "source": [
    "# cluster_dataframes = {}\n",
    "# colors = ['b', 'g', 'r', 'c', 'm']\n",
    "# for n_clust in range(best_cluster_num):\n",
    "#      cluster_dataframes[n_clust] = numeric2014.loc[numeric2014['cluster_label'] == n_clust]\n",
    "\n",
    "# for i in range(best_cluster_num):\n",
    "#     plt.hist(cluster_dataframes[i]['age_group'], alpha=0.4, facecolor=colors[i])\n",
    "        \n",
    "# plt.title(f'Cluster age_group')\n",
    "# plt.show()"
   ]
  },
  {
   "cell_type": "code",
   "execution_count": 117,
   "metadata": {},
   "outputs": [
    {
     "data": {
      "text/plain": [
       "Text(0.5, 1.0, 'Participants per Age & Gender')"
      ]
     },
     "execution_count": 117,
     "metadata": {},
     "output_type": "execute_result"
    },
    {
     "data": {
      "image/png": "[encoded data removed]",
      "text/plain": [
       "<Figure size 936x576 with 1 Axes>"
      ]
     },
     "metadata": {
      "needs_background": "light"
     },
     "output_type": "display_data"
    }
   ],
   "source": [
    "g = sns.countplot('age_group', data=numeric2014, palette=\"coolwarm\", hue='cluster_label')\n",
    "g.figure.set_size_inches(13,8)\n",
    "g.set_title(\"Participants per Age group\")"
   ]
  },
  {
   "cell_type": "markdown",
   "metadata": {},
   "source": [
    "Cluster 2 contains most number of young people \n",
    "\n",
    "Cluster 3 contains most number of oldest people "
   ]
  },
  {
   "cell_type": "code",
   "execution_count": null,
   "metadata": {},
   "outputs": [],
   "source": []
  },
  {
   "cell_type": "markdown",
   "metadata": {},
   "source": [
    "## 5.3. Do the same things as above for finishing time"
   ]
  },
  {
   "cell_type": "code",
   "execution_count": 120,
   "metadata": {},
   "outputs": [
    {
     "data": {
      "text/html": [
       "<div>\n",
       "<style scoped>\n",
       "    .dataframe tbody tr th:only-of-type {\n",
       "        vertical-align: middle;\n",
       "    }\n",
       "\n",
       "    .dataframe tbody tr th {\n",
       "        vertical-align: top;\n",
       "    }\n",
       "\n",
       "    .dataframe thead th {\n",
       "        text-align: right;\n",
       "    }\n",
       "</style>\n",
       "<table border=\"1\" class=\"dataframe\">\n",
       "  <thead>\n",
       "    <tr style=\"text-align: right;\">\n",
       "      <th></th>\n",
       "      <th>10k</th>\n",
       "      <th>division</th>\n",
       "      <th>25k</th>\n",
       "      <th>age</th>\n",
       "      <th>official</th>\n",
       "      <th>genderdiv</th>\n",
       "      <th>35k</th>\n",
       "      <th>overall</th>\n",
       "      <th>pace</th>\n",
       "      <th>30k</th>\n",
       "      <th>5k</th>\n",
       "      <th>half</th>\n",
       "      <th>20k</th>\n",
       "      <th>40k</th>\n",
       "      <th>gender_bin</th>\n",
       "      <th>cluster_label</th>\n",
       "      <th>age_group</th>\n",
       "    </tr>\n",
       "  </thead>\n",
       "  <tbody>\n",
       "    <tr>\n",
       "      <td>count</td>\n",
       "      <td>31649.000000</td>\n",
       "      <td>31649.000000</td>\n",
       "      <td>31649.000000</td>\n",
       "      <td>31649.000000</td>\n",
       "      <td>31649.000000</td>\n",
       "      <td>31649.000000</td>\n",
       "      <td>31649.000000</td>\n",
       "      <td>31649.000000</td>\n",
       "      <td>31649.000000</td>\n",
       "      <td>31649.000000</td>\n",
       "      <td>31649.000000</td>\n",
       "      <td>31649.000000</td>\n",
       "      <td>31649.000000</td>\n",
       "      <td>31649.000000</td>\n",
       "      <td>31649.000000</td>\n",
       "      <td>31649.000000</td>\n",
       "      <td>31649.000000</td>\n",
       "    </tr>\n",
       "    <tr>\n",
       "      <td>mean</td>\n",
       "      <td>51.629039</td>\n",
       "      <td>1922.747291</td>\n",
       "      <td>133.581175</td>\n",
       "      <td>42.385067</td>\n",
       "      <td>241.952383</td>\n",
       "      <td>8002.921988</td>\n",
       "      <td>196.033373</td>\n",
       "      <td>15833.958924</td>\n",
       "      <td>9.236463</td>\n",
       "      <td>163.894883</td>\n",
       "      <td>25.678261</td>\n",
       "      <td>111.211481</td>\n",
       "      <td>105.321404</td>\n",
       "      <td>228.189990</td>\n",
       "      <td>0.447565</td>\n",
       "      <td>1.992417</td>\n",
       "      <td>1.497930</td>\n",
       "    </tr>\n",
       "    <tr>\n",
       "      <td>std</td>\n",
       "      <td>8.710102</td>\n",
       "      <td>1704.843679</td>\n",
       "      <td>25.571480</td>\n",
       "      <td>11.299795</td>\n",
       "      <td>50.842552</td>\n",
       "      <td>4733.255987</td>\n",
       "      <td>40.775036</td>\n",
       "      <td>9182.223743</td>\n",
       "      <td>1.939150</td>\n",
       "      <td>32.889354</td>\n",
       "      <td>4.215381</td>\n",
       "      <td>20.306387</td>\n",
       "      <td>19.159500</td>\n",
       "      <td>48.074493</td>\n",
       "      <td>0.497251</td>\n",
       "      <td>1.407272</td>\n",
       "      <td>0.614076</td>\n",
       "    </tr>\n",
       "    <tr>\n",
       "      <td>min</td>\n",
       "      <td>16.620000</td>\n",
       "      <td>1.000000</td>\n",
       "      <td>45.800000</td>\n",
       "      <td>18.000000</td>\n",
       "      <td>80.600000</td>\n",
       "      <td>1.000000</td>\n",
       "      <td>67.420000</td>\n",
       "      <td>1.000000</td>\n",
       "      <td>3.080000</td>\n",
       "      <td>56.450000</td>\n",
       "      <td>7.750000</td>\n",
       "      <td>38.030000</td>\n",
       "      <td>36.100000</td>\n",
       "      <td>76.100000</td>\n",
       "      <td>0.000000</td>\n",
       "      <td>0.000000</td>\n",
       "      <td>0.000000</td>\n",
       "    </tr>\n",
       "    <tr>\n",
       "      <td>25%</td>\n",
       "      <td>45.370000</td>\n",
       "      <td>607.000000</td>\n",
       "      <td>115.430000</td>\n",
       "      <td>33.000000</td>\n",
       "      <td>205.300000</td>\n",
       "      <td>3940.000000</td>\n",
       "      <td>166.950000</td>\n",
       "      <td>7880.000000</td>\n",
       "      <td>7.830000</td>\n",
       "      <td>140.520000</td>\n",
       "      <td>22.620000</td>\n",
       "      <td>96.750000</td>\n",
       "      <td>91.670000</td>\n",
       "      <td>193.620000</td>\n",
       "      <td>0.000000</td>\n",
       "      <td>1.000000</td>\n",
       "      <td>1.000000</td>\n",
       "    </tr>\n",
       "    <tr>\n",
       "      <td>50%</td>\n",
       "      <td>50.280000</td>\n",
       "      <td>1418.000000</td>\n",
       "      <td>128.850000</td>\n",
       "      <td>42.000000</td>\n",
       "      <td>231.980000</td>\n",
       "      <td>7919.000000</td>\n",
       "      <td>187.850000</td>\n",
       "      <td>15829.000000</td>\n",
       "      <td>8.850000</td>\n",
       "      <td>157.500000</td>\n",
       "      <td>25.050000</td>\n",
       "      <td>107.680000</td>\n",
       "      <td>102.000000</td>\n",
       "      <td>218.470000</td>\n",
       "      <td>0.000000</td>\n",
       "      <td>2.000000</td>\n",
       "      <td>2.000000</td>\n",
       "    </tr>\n",
       "    <tr>\n",
       "      <td>75%</td>\n",
       "      <td>57.000000</td>\n",
       "      <td>2601.000000</td>\n",
       "      <td>147.700000</td>\n",
       "      <td>50.000000</td>\n",
       "      <td>272.200000</td>\n",
       "      <td>11893.000000</td>\n",
       "      <td>219.370000</td>\n",
       "      <td>23785.000000</td>\n",
       "      <td>10.380000</td>\n",
       "      <td>182.200000</td>\n",
       "      <td>28.400000</td>\n",
       "      <td>122.680000</td>\n",
       "      <td>116.150000</td>\n",
       "      <td>256.570000</td>\n",
       "      <td>1.000000</td>\n",
       "      <td>3.000000</td>\n",
       "      <td>2.000000</td>\n",
       "    </tr>\n",
       "    <tr>\n",
       "      <td>max</td>\n",
       "      <td>112.380000</td>\n",
       "      <td>6979.000000</td>\n",
       "      <td>289.020000</td>\n",
       "      <td>81.000000</td>\n",
       "      <td>538.880000</td>\n",
       "      <td>17575.000000</td>\n",
       "      <td>449.330000</td>\n",
       "      <td>31931.000000</td>\n",
       "      <td>20.570000</td>\n",
       "      <td>376.380000</td>\n",
       "      <td>86.950000</td>\n",
       "      <td>236.670000</td>\n",
       "      <td>224.350000</td>\n",
       "      <td>508.350000</td>\n",
       "      <td>1.000000</td>\n",
       "      <td>4.000000</td>\n",
       "      <td>2.000000</td>\n",
       "    </tr>\n",
       "  </tbody>\n",
       "</table>\n",
       "</div>"
      ],
      "text/plain": [
       "                10k      division           25k           age      official  \\\n",
       "count  31649.000000  31649.000000  31649.000000  31649.000000  31649.000000   \n",
       "mean      51.629039   1922.747291    133.581175     42.385067    241.952383   \n",
       "std        8.710102   1704.843679     25.571480     11.299795     50.842552   \n",
       "min       16.620000      1.000000     45.800000     18.000000     80.600000   \n",
       "25%       45.370000    607.000000    115.430000     33.000000    205.300000   \n",
       "50%       50.280000   1418.000000    128.850000     42.000000    231.980000   \n",
       "75%       57.000000   2601.000000    147.700000     50.000000    272.200000   \n",
       "max      112.380000   6979.000000    289.020000     81.000000    538.880000   \n",
       "\n",
       "          genderdiv           35k       overall          pace           30k  \\\n",
       "count  31649.000000  31649.000000  31649.000000  31649.000000  31649.000000   \n",
       "mean    8002.921988    196.033373  15833.958924      9.236463    163.894883   \n",
       "std     4733.255987     40.775036   9182.223743      1.939150     32.889354   \n",
       "min        1.000000     67.420000      1.000000      3.080000     56.450000   \n",
       "25%     3940.000000    166.950000   7880.000000      7.830000    140.520000   \n",
       "50%     7919.000000    187.850000  15829.000000      8.850000    157.500000   \n",
       "75%    11893.000000    219.370000  23785.000000     10.380000    182.200000   \n",
       "max    17575.000000    449.330000  31931.000000     20.570000    376.380000   \n",
       "\n",
       "                 5k          half           20k           40k    gender_bin  \\\n",
       "count  31649.000000  31649.000000  31649.000000  31649.000000  31649.000000   \n",
       "mean      25.678261    111.211481    105.321404    228.189990      0.447565   \n",
       "std        4.215381     20.306387     19.159500     48.074493      0.497251   \n",
       "min        7.750000     38.030000     36.100000     76.100000      0.000000   \n",
       "25%       22.620000     96.750000     91.670000    193.620000      0.000000   \n",
       "50%       25.050000    107.680000    102.000000    218.470000      0.000000   \n",
       "75%       28.400000    122.680000    116.150000    256.570000      1.000000   \n",
       "max       86.950000    236.670000    224.350000    508.350000      1.000000   \n",
       "\n",
       "       cluster_label     age_group  \n",
       "count   31649.000000  31649.000000  \n",
       "mean        1.992417      1.497930  \n",
       "std         1.407272      0.614076  \n",
       "min         0.000000      0.000000  \n",
       "25%         1.000000      1.000000  \n",
       "50%         2.000000      2.000000  \n",
       "75%         3.000000      2.000000  \n",
       "max         4.000000      2.000000  "
      ]
     },
     "execution_count": 120,
     "metadata": {},
     "output_type": "execute_result"
    }
   ],
   "source": [
    "numeric2014.describe()"
   ]
  },
  {
   "cell_type": "code",
   "execution_count": 124,
   "metadata": {},
   "outputs": [
    {
     "data": {
      "text/plain": [
       "<matplotlib.axes._subplots.AxesSubplot at 0x7fac3978cda0>"
      ]
     },
     "execution_count": 124,
     "metadata": {},
     "output_type": "execute_result"
    },
    {
     "data": {
      "image/png": "[encoded data removed]",
      "text/plain": [
       "<Figure size 432x288 with 1 Axes>"
      ]
     },
     "metadata": {
      "needs_background": "light"
     },
     "output_type": "display_data"
    }
   ],
   "source": [
    "sns.distplot(data['official'], kde = False,hist_kws=dict(edgecolor=\"k\"))"
   ]
  },
  {
   "cell_type": "code",
   "execution_count": 123,
   "metadata": {},
   "outputs": [
    {
     "data": {
      "text/plain": [
       "Text(0.5, 1.0, 'Participants per finish time')"
      ]
     },
     "execution_count": 123,
     "metadata": {},
     "output_type": "execute_result"
    },
    {
     "data": {
      "image/png": "[encoded data removed]",
      "text/plain": [
       "<Figure size 936x576 with 1 Axes>"
      ]
     },
     "metadata": {
      "needs_background": "light"
     },
     "output_type": "display_data"
    }
   ],
   "source": [
    "# g = sns.countplot('official', data=numeric2014, palette=\"coolwarm\")\n",
    "# g.figure.set_size_inches(13,8)\n",
    "# g.set_title(\"Participants per finish time\")"
   ]
  },
  {
   "cell_type": "code",
   "execution_count": 129,
   "metadata": {},
   "outputs": [
    {
     "data": {
      "text/html": [
       "<div>\n",
       "<style scoped>\n",
       "    .dataframe tbody tr th:only-of-type {\n",
       "        vertical-align: middle;\n",
       "    }\n",
       "\n",
       "    .dataframe tbody tr th {\n",
       "        vertical-align: top;\n",
       "    }\n",
       "\n",
       "    .dataframe thead th {\n",
       "        text-align: right;\n",
       "    }\n",
       "</style>\n",
       "<table border=\"1\" class=\"dataframe\">\n",
       "  <thead>\n",
       "    <tr style=\"text-align: right;\">\n",
       "      <th></th>\n",
       "      <th>10k</th>\n",
       "      <th>division</th>\n",
       "      <th>25k</th>\n",
       "      <th>age</th>\n",
       "      <th>official</th>\n",
       "      <th>genderdiv</th>\n",
       "      <th>35k</th>\n",
       "      <th>overall</th>\n",
       "      <th>pace</th>\n",
       "      <th>30k</th>\n",
       "      <th>5k</th>\n",
       "      <th>half</th>\n",
       "      <th>20k</th>\n",
       "      <th>40k</th>\n",
       "      <th>gender_bin</th>\n",
       "      <th>cluster_label</th>\n",
       "      <th>age_group</th>\n",
       "      <th>official_group</th>\n",
       "    </tr>\n",
       "  </thead>\n",
       "  <tbody>\n",
       "    <tr>\n",
       "      <td>0</td>\n",
       "      <td>17.37</td>\n",
       "      <td>8</td>\n",
       "      <td>47.67</td>\n",
       "      <td>47.0</td>\n",
       "      <td>85.25</td>\n",
       "      <td>8</td>\n",
       "      <td>71.40</td>\n",
       "      <td>8.0</td>\n",
       "      <td>3.27</td>\n",
       "      <td>59.18</td>\n",
       "      <td>8.02</td>\n",
       "      <td>39.72</td>\n",
       "      <td>37.65</td>\n",
       "      <td>80.43</td>\n",
       "      <td>0</td>\n",
       "      <td>2</td>\n",
       "      <td>2</td>\n",
       "      <td>0</td>\n",
       "    </tr>\n",
       "    <tr>\n",
       "      <td>1</td>\n",
       "      <td>32.58</td>\n",
       "      <td>1</td>\n",
       "      <td>82.43</td>\n",
       "      <td>33.0</td>\n",
       "      <td>138.95</td>\n",
       "      <td>1</td>\n",
       "      <td>116.37</td>\n",
       "      <td>21.0</td>\n",
       "      <td>5.30</td>\n",
       "      <td>99.33</td>\n",
       "      <td>16.22</td>\n",
       "      <td>69.47</td>\n",
       "      <td>65.83</td>\n",
       "      <td>132.10</td>\n",
       "      <td>1</td>\n",
       "      <td>2</td>\n",
       "      <td>1</td>\n",
       "      <td>0</td>\n",
       "    </tr>\n",
       "    <tr>\n",
       "      <td>2</td>\n",
       "      <td>16.62</td>\n",
       "      <td>1</td>\n",
       "      <td>45.80</td>\n",
       "      <td>41.0</td>\n",
       "      <td>80.60</td>\n",
       "      <td>1</td>\n",
       "      <td>67.42</td>\n",
       "      <td>1.0</td>\n",
       "      <td>3.08</td>\n",
       "      <td>56.45</td>\n",
       "      <td>7.75</td>\n",
       "      <td>38.03</td>\n",
       "      <td>36.10</td>\n",
       "      <td>76.10</td>\n",
       "      <td>0</td>\n",
       "      <td>2</td>\n",
       "      <td>2</td>\n",
       "      <td>0</td>\n",
       "    </tr>\n",
       "    <tr>\n",
       "      <td>3</td>\n",
       "      <td>32.57</td>\n",
       "      <td>3</td>\n",
       "      <td>82.43</td>\n",
       "      <td>24.0</td>\n",
       "      <td>140.58</td>\n",
       "      <td>3</td>\n",
       "      <td>116.37</td>\n",
       "      <td>27.0</td>\n",
       "      <td>5.37</td>\n",
       "      <td>99.33</td>\n",
       "      <td>16.20</td>\n",
       "      <td>69.47</td>\n",
       "      <td>65.83</td>\n",
       "      <td>132.95</td>\n",
       "      <td>1</td>\n",
       "      <td>2</td>\n",
       "      <td>0</td>\n",
       "      <td>0</td>\n",
       "    </tr>\n",
       "    <tr>\n",
       "      <td>4</td>\n",
       "      <td>17.12</td>\n",
       "      <td>2</td>\n",
       "      <td>46.37</td>\n",
       "      <td>40.0</td>\n",
       "      <td>81.23</td>\n",
       "      <td>2</td>\n",
       "      <td>67.83</td>\n",
       "      <td>2.0</td>\n",
       "      <td>3.10</td>\n",
       "      <td>57.03</td>\n",
       "      <td>8.02</td>\n",
       "      <td>38.60</td>\n",
       "      <td>36.58</td>\n",
       "      <td>76.72</td>\n",
       "      <td>0</td>\n",
       "      <td>2</td>\n",
       "      <td>1</td>\n",
       "      <td>0</td>\n",
       "    </tr>\n",
       "  </tbody>\n",
       "</table>\n",
       "</div>"
      ],
      "text/plain": [
       "     10k  division    25k   age  official  genderdiv     35k  overall  pace  \\\n",
       "0  17.37         8  47.67  47.0     85.25          8   71.40      8.0  3.27   \n",
       "1  32.58         1  82.43  33.0    138.95          1  116.37     21.0  5.30   \n",
       "2  16.62         1  45.80  41.0     80.60          1   67.42      1.0  3.08   \n",
       "3  32.57         3  82.43  24.0    140.58          3  116.37     27.0  5.37   \n",
       "4  17.12         2  46.37  40.0     81.23          2   67.83      2.0  3.10   \n",
       "\n",
       "     30k     5k   half    20k     40k  gender_bin  cluster_label  age_group  \\\n",
       "0  59.18   8.02  39.72  37.65   80.43           0              2          2   \n",
       "1  99.33  16.22  69.47  65.83  132.10           1              2          1   \n",
       "2  56.45   7.75  38.03  36.10   76.10           0              2          2   \n",
       "3  99.33  16.20  69.47  65.83  132.95           1              2          0   \n",
       "4  57.03   8.02  38.60  36.58   76.72           0              2          1   \n",
       "\n",
       "   official_group  \n",
       "0               0  \n",
       "1               0  \n",
       "2               0  \n",
       "3               0  \n",
       "4               0  "
      ]
     },
     "execution_count": 129,
     "metadata": {},
     "output_type": "execute_result"
    }
   ],
   "source": [
    "def divide_offical(x):\n",
    "    if (x > 80 and x <= 150):\n",
    "        return 0\n",
    "    if (x > 150 and x <= 200):\n",
    "        return 1\n",
    "    if (x > 200 and x <= 250):\n",
    "        return 2\n",
    "    if (x > 250 and x <= 350):\n",
    "        return 3\n",
    "    return 4\n",
    "numeric2014['official_group'] = numeric2014['official'].apply(lambda x: divide_offical(x))\n",
    "numeric2014.head()"
   ]
  },
  {
   "cell_type": "code",
   "execution_count": 130,
   "metadata": {},
   "outputs": [
    {
     "data": {
      "text/html": [
       "<div>\n",
       "<style scoped>\n",
       "    .dataframe tbody tr th:only-of-type {\n",
       "        vertical-align: middle;\n",
       "    }\n",
       "\n",
       "    .dataframe tbody tr th {\n",
       "        vertical-align: top;\n",
       "    }\n",
       "\n",
       "    .dataframe thead th {\n",
       "        text-align: right;\n",
       "    }\n",
       "</style>\n",
       "<table border=\"1\" class=\"dataframe\">\n",
       "  <thead>\n",
       "    <tr style=\"text-align: right;\">\n",
       "      <th></th>\n",
       "      <th>10k</th>\n",
       "      <th>division</th>\n",
       "      <th>25k</th>\n",
       "      <th>age</th>\n",
       "      <th>official</th>\n",
       "      <th>genderdiv</th>\n",
       "      <th>35k</th>\n",
       "      <th>overall</th>\n",
       "      <th>pace</th>\n",
       "      <th>30k</th>\n",
       "      <th>5k</th>\n",
       "      <th>half</th>\n",
       "      <th>20k</th>\n",
       "      <th>40k</th>\n",
       "      <th>gender_bin</th>\n",
       "      <th>cluster_label</th>\n",
       "      <th>age_group</th>\n",
       "      <th>official_group</th>\n",
       "    </tr>\n",
       "  </thead>\n",
       "  <tbody>\n",
       "    <tr>\n",
       "      <td>count</td>\n",
       "      <td>31649.000000</td>\n",
       "      <td>31649.000000</td>\n",
       "      <td>31649.000000</td>\n",
       "      <td>31649.000000</td>\n",
       "      <td>31649.000000</td>\n",
       "      <td>31649.000000</td>\n",
       "      <td>31649.000000</td>\n",
       "      <td>31649.000000</td>\n",
       "      <td>31649.000000</td>\n",
       "      <td>31649.000000</td>\n",
       "      <td>31649.000000</td>\n",
       "      <td>31649.000000</td>\n",
       "      <td>31649.000000</td>\n",
       "      <td>31649.000000</td>\n",
       "      <td>31649.000000</td>\n",
       "      <td>31649.000000</td>\n",
       "      <td>31649.000000</td>\n",
       "      <td>31649.000000</td>\n",
       "    </tr>\n",
       "    <tr>\n",
       "      <td>mean</td>\n",
       "      <td>51.629039</td>\n",
       "      <td>1922.747291</td>\n",
       "      <td>133.581175</td>\n",
       "      <td>42.385067</td>\n",
       "      <td>241.952383</td>\n",
       "      <td>8002.921988</td>\n",
       "      <td>196.033373</td>\n",
       "      <td>15833.958924</td>\n",
       "      <td>9.236463</td>\n",
       "      <td>163.894883</td>\n",
       "      <td>25.678261</td>\n",
       "      <td>111.211481</td>\n",
       "      <td>105.321404</td>\n",
       "      <td>228.189990</td>\n",
       "      <td>0.447565</td>\n",
       "      <td>1.992417</td>\n",
       "      <td>1.497930</td>\n",
       "      <td>2.192834</td>\n",
       "    </tr>\n",
       "    <tr>\n",
       "      <td>std</td>\n",
       "      <td>8.710102</td>\n",
       "      <td>1704.843679</td>\n",
       "      <td>25.571480</td>\n",
       "      <td>11.299795</td>\n",
       "      <td>50.842552</td>\n",
       "      <td>4733.255987</td>\n",
       "      <td>40.775036</td>\n",
       "      <td>9182.223743</td>\n",
       "      <td>1.939150</td>\n",
       "      <td>32.889354</td>\n",
       "      <td>4.215381</td>\n",
       "      <td>20.306387</td>\n",
       "      <td>19.159500</td>\n",
       "      <td>48.074493</td>\n",
       "      <td>0.497251</td>\n",
       "      <td>1.407272</td>\n",
       "      <td>0.614076</td>\n",
       "      <td>0.809920</td>\n",
       "    </tr>\n",
       "    <tr>\n",
       "      <td>min</td>\n",
       "      <td>16.620000</td>\n",
       "      <td>1.000000</td>\n",
       "      <td>45.800000</td>\n",
       "      <td>18.000000</td>\n",
       "      <td>80.600000</td>\n",
       "      <td>1.000000</td>\n",
       "      <td>67.420000</td>\n",
       "      <td>1.000000</td>\n",
       "      <td>3.080000</td>\n",
       "      <td>56.450000</td>\n",
       "      <td>7.750000</td>\n",
       "      <td>38.030000</td>\n",
       "      <td>36.100000</td>\n",
       "      <td>76.100000</td>\n",
       "      <td>0.000000</td>\n",
       "      <td>0.000000</td>\n",
       "      <td>0.000000</td>\n",
       "      <td>0.000000</td>\n",
       "    </tr>\n",
       "    <tr>\n",
       "      <td>25%</td>\n",
       "      <td>45.370000</td>\n",
       "      <td>607.000000</td>\n",
       "      <td>115.430000</td>\n",
       "      <td>33.000000</td>\n",
       "      <td>205.300000</td>\n",
       "      <td>3940.000000</td>\n",
       "      <td>166.950000</td>\n",
       "      <td>7880.000000</td>\n",
       "      <td>7.830000</td>\n",
       "      <td>140.520000</td>\n",
       "      <td>22.620000</td>\n",
       "      <td>96.750000</td>\n",
       "      <td>91.670000</td>\n",
       "      <td>193.620000</td>\n",
       "      <td>0.000000</td>\n",
       "      <td>1.000000</td>\n",
       "      <td>1.000000</td>\n",
       "      <td>2.000000</td>\n",
       "    </tr>\n",
       "    <tr>\n",
       "      <td>50%</td>\n",
       "      <td>50.280000</td>\n",
       "      <td>1418.000000</td>\n",
       "      <td>128.850000</td>\n",
       "      <td>42.000000</td>\n",
       "      <td>231.980000</td>\n",
       "      <td>7919.000000</td>\n",
       "      <td>187.850000</td>\n",
       "      <td>15829.000000</td>\n",
       "      <td>8.850000</td>\n",
       "      <td>157.500000</td>\n",
       "      <td>25.050000</td>\n",
       "      <td>107.680000</td>\n",
       "      <td>102.000000</td>\n",
       "      <td>218.470000</td>\n",
       "      <td>0.000000</td>\n",
       "      <td>2.000000</td>\n",
       "      <td>2.000000</td>\n",
       "      <td>2.000000</td>\n",
       "    </tr>\n",
       "    <tr>\n",
       "      <td>75%</td>\n",
       "      <td>57.000000</td>\n",
       "      <td>2601.000000</td>\n",
       "      <td>147.700000</td>\n",
       "      <td>50.000000</td>\n",
       "      <td>272.200000</td>\n",
       "      <td>11893.000000</td>\n",
       "      <td>219.370000</td>\n",
       "      <td>23785.000000</td>\n",
       "      <td>10.380000</td>\n",
       "      <td>182.200000</td>\n",
       "      <td>28.400000</td>\n",
       "      <td>122.680000</td>\n",
       "      <td>116.150000</td>\n",
       "      <td>256.570000</td>\n",
       "      <td>1.000000</td>\n",
       "      <td>3.000000</td>\n",
       "      <td>2.000000</td>\n",
       "      <td>3.000000</td>\n",
       "    </tr>\n",
       "    <tr>\n",
       "      <td>max</td>\n",
       "      <td>112.380000</td>\n",
       "      <td>6979.000000</td>\n",
       "      <td>289.020000</td>\n",
       "      <td>81.000000</td>\n",
       "      <td>538.880000</td>\n",
       "      <td>17575.000000</td>\n",
       "      <td>449.330000</td>\n",
       "      <td>31931.000000</td>\n",
       "      <td>20.570000</td>\n",
       "      <td>376.380000</td>\n",
       "      <td>86.950000</td>\n",
       "      <td>236.670000</td>\n",
       "      <td>224.350000</td>\n",
       "      <td>508.350000</td>\n",
       "      <td>1.000000</td>\n",
       "      <td>4.000000</td>\n",
       "      <td>2.000000</td>\n",
       "      <td>4.000000</td>\n",
       "    </tr>\n",
       "  </tbody>\n",
       "</table>\n",
       "</div>"
      ],
      "text/plain": [
       "                10k      division           25k           age      official  \\\n",
       "count  31649.000000  31649.000000  31649.000000  31649.000000  31649.000000   \n",
       "mean      51.629039   1922.747291    133.581175     42.385067    241.952383   \n",
       "std        8.710102   1704.843679     25.571480     11.299795     50.842552   \n",
       "min       16.620000      1.000000     45.800000     18.000000     80.600000   \n",
       "25%       45.370000    607.000000    115.430000     33.000000    205.300000   \n",
       "50%       50.280000   1418.000000    128.850000     42.000000    231.980000   \n",
       "75%       57.000000   2601.000000    147.700000     50.000000    272.200000   \n",
       "max      112.380000   6979.000000    289.020000     81.000000    538.880000   \n",
       "\n",
       "          genderdiv           35k       overall          pace           30k  \\\n",
       "count  31649.000000  31649.000000  31649.000000  31649.000000  31649.000000   \n",
       "mean    8002.921988    196.033373  15833.958924      9.236463    163.894883   \n",
       "std     4733.255987     40.775036   9182.223743      1.939150     32.889354   \n",
       "min        1.000000     67.420000      1.000000      3.080000     56.450000   \n",
       "25%     3940.000000    166.950000   7880.000000      7.830000    140.520000   \n",
       "50%     7919.000000    187.850000  15829.000000      8.850000    157.500000   \n",
       "75%    11893.000000    219.370000  23785.000000     10.380000    182.200000   \n",
       "max    17575.000000    449.330000  31931.000000     20.570000    376.380000   \n",
       "\n",
       "                 5k          half           20k           40k    gender_bin  \\\n",
       "count  31649.000000  31649.000000  31649.000000  31649.000000  31649.000000   \n",
       "mean      25.678261    111.211481    105.321404    228.189990      0.447565   \n",
       "std        4.215381     20.306387     19.159500     48.074493      0.497251   \n",
       "min        7.750000     38.030000     36.100000     76.100000      0.000000   \n",
       "25%       22.620000     96.750000     91.670000    193.620000      0.000000   \n",
       "50%       25.050000    107.680000    102.000000    218.470000      0.000000   \n",
       "75%       28.400000    122.680000    116.150000    256.570000      1.000000   \n",
       "max       86.950000    236.670000    224.350000    508.350000      1.000000   \n",
       "\n",
       "       cluster_label     age_group  official_group  \n",
       "count   31649.000000  31649.000000    31649.000000  \n",
       "mean        1.992417      1.497930        2.192834  \n",
       "std         1.407272      0.614076        0.809920  \n",
       "min         0.000000      0.000000        0.000000  \n",
       "25%         1.000000      1.000000        2.000000  \n",
       "50%         2.000000      2.000000        2.000000  \n",
       "75%         3.000000      2.000000        3.000000  \n",
       "max         4.000000      2.000000        4.000000  "
      ]
     },
     "execution_count": 130,
     "metadata": {},
     "output_type": "execute_result"
    }
   ],
   "source": [
    "numeric2014.describe()"
   ]
  },
  {
   "cell_type": "code",
   "execution_count": 132,
   "metadata": {},
   "outputs": [
    {
     "data": {
      "text/plain": [
       "Text(0.5, 1.0, 'Participants per Age group')"
      ]
     },
     "execution_count": 132,
     "metadata": {},
     "output_type": "execute_result"
    },
    {
     "data": {
      "image/png": "[encoded data removed]",
      "text/plain": [
       "<Figure size 1296x576 with 1 Axes>"
      ]
     },
     "metadata": {
      "needs_background": "light"
     },
     "output_type": "display_data"
    }
   ],
   "source": [
    "g = sns.countplot('official_group', data=numeric2014, palette=\"coolwarm\", hue='cluster_label')\n",
    "g.figure.set_size_inches(18,8)\n",
    "g.set_title(\"Participants per Age group\")"
   ]
  },
  {
   "cell_type": "code",
   "execution_count": null,
   "metadata": {},
   "outputs": [],
   "source": [
    "Cluster group 2 run fastest\n",
    "\n",
    "Cluster group 0 run slowest "
   ]
  },
  {
   "cell_type": "markdown",
   "metadata": {},
   "source": [
    "# 6. Conclusion"
   ]
  },
  {
   "cell_type": "code",
   "execution_count": null,
   "metadata": {},
   "outputs": [],
   "source": [
    "We use the Elbow Method to determine best number of cluster. The best number of cluster for this dataset is 5.\n",
    "Base on clustering result, we can find which group run fastest, contains most male or female, contains young, oldest people.\n"
   ]
  },
  {
   "cell_type": "code",
   "execution_count": null,
   "metadata": {},
   "outputs": [],
   "source": []
  }
 ],
 "metadata": {
  "kernelspec": {
   "display_name": "Python 3",
   "language": "python",
   "name": "python3"
  },
  "language_info": {
   "codemirror_mode": {
    "name": "ipython",
    "version": 3
   },
   "file_extension": ".py",
   "mimetype": "text/x-python",
   "name": "python",
   "nbconvert_exporter": "python",
   "pygments_lexer": "ipython3",
   "version": "3.7.3"
  }
 },
 "nbformat": 4,
 "nbformat_minor": 4
}
