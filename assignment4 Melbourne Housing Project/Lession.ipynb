{
 "cells": [
  {
   "cell_type": "markdown",
   "metadata": {},
   "source": [
    "R^2 = 1 - RSS/TSS\n",
    "\n",
    "<img src=\"./r-square.jpg\">"
   ]
  },
  {
   "cell_type": "code",
   "execution_count": null,
   "metadata": {},
   "outputs": [],
   "source": [
    "Sum of square regression = y predict - y_mean\n",
    "Sum of square residual  = y real - y_mean\n",
    "Sum of square error = "
   ]
  }
 ],
 "metadata": {
  "kernelspec": {
   "display_name": "Python 3",
   "language": "python",
   "name": "python3"
  },
  "language_info": {
   "codemirror_mode": {
    "name": "ipython",
    "version": 3
   },
   "file_extension": ".py",
   "mimetype": "text/x-python",
   "name": "python",
   "nbconvert_exporter": "python",
   "pygments_lexer": "ipython3",
   "version": "3.7.3"
  }
 },
 "nbformat": 4,
 "nbformat_minor": 4
}
