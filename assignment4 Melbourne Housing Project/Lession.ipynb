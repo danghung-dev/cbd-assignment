{
 "cells": [
  {
   "cell_type": "markdown",
   "metadata": {},
   "source": [
    "R^2 = 1 - RSS/TSS\n",
    "\n",
    "<img src=\"./r-square.jpg\">"
   ]
  },
  {
   "cell_type": "markdown",
   "metadata": {},
   "source": [
    "Sum of square regression = y predict - y_mean\n",
    "\n",
    "Sum of square residual  = y real - y_mean\n",
    "\n",
    "Sum of square error = SSE = Sum of square regression\n",
    "\n",
    "Mean square error = MSE = SSE / n - m - 1 \n",
    "\n",
    "n: sample size, m: number of feature\n",
    "\n",
    "RMSE = sqrt(MSE)"
   ]
  },
  {
   "cell_type": "code",
   "execution_count": null,
   "metadata": {},
   "outputs": [],
   "source": []
  }
 ],
 "metadata": {
  "kernelspec": {
   "display_name": "Python 3",
   "language": "python",
   "name": "python3"
  },
  "language_info": {
   "codemirror_mode": {
    "name": "ipython",
    "version": 3
   },
   "file_extension": ".py",
   "mimetype": "text/x-python",
   "name": "python",
   "nbconvert_exporter": "python",
   "pygments_lexer": "ipython3",
   "version": "3.7.3"
  }
 },
 "nbformat": 4,
 "nbformat_minor": 4
}
