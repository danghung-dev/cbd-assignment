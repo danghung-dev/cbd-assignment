{
 "cells": [
  {
   "cell_type": "markdown",
   "metadata": {},
   "source": [
    "# PCA computation\n",
    "Suppose the random variables X1, X2, and X3 have the covariance\n",
    "matrix:"
   ]
  },
  {
   "cell_type": "markdown",
   "metadata": {},
   "source": [
    "$$A = \\begin{pmatrix} 1 & -2 & 0 \\\\ -2 & 5 & 0 \\\\ 0 & 0 & 2 \\end{pmatrix}$$"
   ]
  },
  {
   "cell_type": "markdown",
   "metadata": {},
   "source": [
    "Calculate (by hand, show detail work) the eigenvalue-eigenvector pairs\n",
    "and the principal components Y1, Y2 and Y3."
   ]
  },
  {
   "cell_type": "markdown",
   "metadata": {},
   "source": [
    "The eigenvalues of A are roots of the characteristic equation\n",
    "$$\n",
    "det(A - \\lambda I) = 0\n",
    "$$"
   ]
  },
  {
   "cell_type": "markdown",
   "metadata": {},
   "source": [
    "$$det(\\begin{pmatrix} 1 & -2 & 0 \\\\ -2 & 5 & 0 \\\\ 0 & 0 & 2 \\end{pmatrix} - \\begin{pmatrix} \\lambda & 0 & 0 \\\\ 0 & \\lambda & 0 \\\\ 0 & 0 & \\lambda \\end{pmatrix}) = 0$$"
   ]
  },
  {
   "cell_type": "markdown",
   "metadata": {},
   "source": [
    "$$det(\\begin{pmatrix} 1 - \\lambda & -2 & 0 \\\\ -2 & 5- \\lambda & 0 \\\\ 0 & 0 & 2- \\lambda \\end{pmatrix}) = 0$$"
   ]
  },
  {
   "cell_type": "code",
   "execution_count": null,
   "metadata": {},
   "outputs": [],
   "source": []
  }
 ],
 "metadata": {
  "kernelspec": {
   "display_name": "Python 3",
   "language": "python",
   "name": "python3"
  },
  "language_info": {
   "codemirror_mode": {
    "name": "ipython",
    "version": 3
   },
   "file_extension": ".py",
   "mimetype": "text/x-python",
   "name": "python",
   "nbconvert_exporter": "python",
   "pygments_lexer": "ipython3",
   "version": "3.7.3"
  }
 },
 "nbformat": 4,
 "nbformat_minor": 4
}
